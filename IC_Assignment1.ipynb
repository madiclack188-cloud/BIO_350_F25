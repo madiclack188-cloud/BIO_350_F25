{
 "cells": [
  {
   "cell_type": "markdown",
   "id": "0bc69bb7",
   "metadata": {},
   "source": [
    "Make a definition for a difference equation"
   ]
  },
  {
   "cell_type": "code",
   "execution_count": 1,
   "id": "23b172c1",
   "metadata": {},
   "outputs": [],
   "source": [
    "def N_iterative(N_0, p, number_iterations):\n",
    "    N_values = [N_0]  \n",
    "    current_N = N_0\n",
    "    for _ in range(number_iterations):\n",
    "        current_N = current_N + p \n",
    "        N_values.append(current_N) \n",
    "    return N_values \n"
   ]
  },
  {
   "cell_type": "code",
   "execution_count": null,
   "id": "dc1b25b1",
   "metadata": {},
   "outputs": [],
   "source": [
    "#Call N_iterative with N_0 = 0, p=2, and number_iteration = 10 \n",
    "results = N_iterative(0, 2, 10)\n",
    "# and print result\n",
    "\n",
    "\n"
   ]
  }
 ],
 "metadata": {
  "kernelspec": {
   "display_name": "IC_Assignments",
   "language": "python",
   "name": "python3"
  },
  "language_info": {
   "codemirror_mode": {
    "name": "ipython",
    "version": 3
   },
   "file_extension": ".py",
   "mimetype": "text/x-python",
   "name": "python",
   "nbconvert_exporter": "python",
   "pygments_lexer": "ipython3",
   "version": "3.13.5"
  }
 },
 "nbformat": 4,
 "nbformat_minor": 5
}
