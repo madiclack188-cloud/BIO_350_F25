{
 "cells": [
  {
   "cell_type": "code",
   "execution_count": 1,
   "id": "837d8c11",
   "metadata": {},
   "outputs": [],
   "source": [
    "import matplotlib.pyplot as plt "
   ]
  },
  {
   "cell_type": "code",
   "execution_count": 2,
   "id": "08c59a91",
   "metadata": {},
   "outputs": [],
   "source": [
    "# import numpy \n",
    "import numpy as np"
   ]
  },
  {
   "cell_type": "code",
   "execution_count": 4,
   "id": "87e1bd1b",
   "metadata": {},
   "outputs": [
    {
     "ename": "_IncompleteInputError",
     "evalue": "incomplete input (1184817993.py, line 11)",
     "output_type": "error",
     "traceback": [
      "  \u001b[36mCell\u001b[39m\u001b[36m \u001b[39m\u001b[32mIn[4]\u001b[39m\u001b[32m, line 11\u001b[39m\n\u001b[31m    \u001b[39m\n    ^\n\u001b[31m_IncompleteInputError\u001b[39m\u001b[31m:\u001b[39m incomplete input\n"
     ]
    }
   ],
   "source": [
    "#create an algoritm that calcultes the population of 3 ages of a beetle population over 50 years\n",
    "# the intital First year population is 500 and the initial second year population is 500\n",
    "# on average 1 beetle produces 1 offspring in the second year and 5 offspring in the third year\n",
    "# the first year beetles survive 30% to second year and 50% of second year beetles survive to third year\n",
    "\n",
    "# create a defintion to calculate the return population of each age group and the total population for each year\n",
    "def beetle_population(years, initial_first_year, initial_second_year):\n",
    "    #Complete the alogoritm using matrix multiplication\n",
    "    # create a matrix to represent the transition of population between years \n",
    "\n",
    "    \n"
   ]
  },
  {
   "cell_type": "code",
   "execution_count": null,
   "id": "c60c7803",
   "metadata": {},
   "outputs": [],
   "source": []
  }
 ],
 "metadata": {
  "kernelspec": {
   "display_name": "IC_Assignments",
   "language": "python",
   "name": "python3"
  },
  "language_info": {
   "codemirror_mode": {
    "name": "ipython",
    "version": 3
   },
   "file_extension": ".py",
   "mimetype": "text/x-python",
   "name": "python",
   "nbconvert_exporter": "python",
   "pygments_lexer": "ipython3",
   "version": "3.13.5"
  }
 },
 "nbformat": 4,
 "nbformat_minor": 5
}
