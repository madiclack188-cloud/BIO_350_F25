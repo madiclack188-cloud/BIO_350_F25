{
 "cells": [
  {
   "cell_type": "markdown",
   "id": "7f8e3541",
   "metadata": {},
   "source": [
    "Creatin a program/function that can anser the following questions from Ch. 7\n",
    "\n",
    "    - Progam that takes input and answers the following questions \n",
    "        - prob we will find 2 eggs in 1st nest \n",
    "        - prob team will get 3 nests in a row with 1 egg\n",
    "        - average number of eggs per nest \n",
    "\n",
    "    - finally, be able to adjust the input parameters \n",
    "        - such as how many nests with 1/2/3 eggs \n",
    "        - how many nests in a row with 1 egg "
   ]
  },
  {
   "cell_type": "code",
   "execution_count": 15,
   "id": "026b69fa",
   "metadata": {},
   "outputs": [],
   "source": [
    "import numpy as np\n",
    "from scipy import stats"
   ]
  },
  {
   "cell_type": "code",
   "execution_count": 16,
   "id": "66d3d504",
   "metadata": {},
   "outputs": [],
   "source": [
    "import matplotlib.pyplot as plt "
   ]
  },
  {
   "cell_type": "code",
   "execution_count": 17,
   "id": "2a84ed48",
   "metadata": {},
   "outputs": [
    {
     "name": "stdout",
     "output_type": "stream",
     "text": [
      "Mean number of eggs per nest: 2.1077\n",
      "Probability of finding exactly 2 eggs in the first nest: 0.5\n",
      "Probability of getting 3 nests in a row with exactly 1 egg: 0.008000000000000002\n"
     ]
    }
   ],
   "source": [
    "sample_space = [1, 2, 3]\n",
    "probabilities = [0.2, 0.5, 0.3]\n",
    "distribution = stats.rv_discrete(name='custom_dist', values=(sample_space, probabilities))\n",
    "num_samples = 10000\n",
    "samples = distribution.rvs(size=num_samples)\n",
    "mean = np.mean(samples)\n",
    "print(f\"Mean number of eggs per nest: {mean}\")\n",
    "# Probability of finding exactly 2 eggs in the first nest\n",
    "prob_2_eggs = distribution.pmf(2)\n",
    "print(f\"Probability of finding exactly 2 eggs in the first nest: {prob_2_eggs}\")\n",
    "# Probability of getting 3 nests in a row with exactly 1 egg\n",
    "prob_1_egg = distribution.pmf(1)\n",
    "prob_3_nests_1_egg = prob_1_egg ** 3\n",
    "print(f\"Probability of getting 3 nests in a row with exactly 1 egg: {prob_3_nests_1_egg}\")\n",
    "\n",
    "\n"
   ]
  },
  {
   "cell_type": "code",
   "execution_count": 18,
   "id": "b0118ce6",
   "metadata": {},
   "outputs": [
    {
     "data": {
      "image/png": "[encoded data removed]",
      "text/plain": [
       "<Figure size 640x480 with 1 Axes>"
      ]
     },
     "metadata": {},
     "output_type": "display_data"
    }
   ],
   "source": [
    "# plotting the distribution\n",
    "x = np.arange(1, 4)\n",
    "y = distribution.pmf(x)\n",
    "plt.bar(x, y, tick_label=x)\n",
    "plt.xlabel('Number of Eggs in Nest')\n",
    "plt.ylabel('Probability')\n",
    "plt.title('Probability Distribution of Eggs in Nests')\n",
    "plt.show()\n",
    "# Function to adjust input parameters\n",
    "def egg_distribution(num_1_egg, num_2_eggs, num_3_eggs, nests_in_row):\n",
    "    total_nests = num_1_egg + num_2_eggs + num_3_eggs\n",
    "    probabilities = [num_1_egg / total_nests, num_2_eggs / total_nests, num_3_eggs / total_nests]\n",
    "    distribution = stats.rv_discrete(name='custom_dist', values=([1, 2, 3], probabilities))\n",
    "    \n",
    "    mean = np.mean(distribution.rvs(size=10000))\n",
    "    prob_2_eggs = distribution.pmf(2)\n",
    "    prob_1_egg = distribution.pmf(1)\n",
    "    prob_nests_in_row = prob_1_egg ** nests_in_row\n",
    "    \n",
    "    return mean, prob_2_eggs, prob_nests_in_row\n"
   ]
  },
  {
   "cell_type": "code",
   "execution_count": 28,
   "id": "b411ee5f",
   "metadata": {},
   "outputs": [],
   "source": [
    "def eagle_nest_analysis(one_egg_nest_counts, two_egg_nest_counts, three_egg_nest_counts, how_many_nests_in_a_row_with_1_egg):\n",
    "\n",
    "    \"\"\"\n",
    "    Function that calculates and returns the following answers printed:\n",
    "    1. probability of finding exactly 2 eggs in the first nest\n",
    "    2. probability of getting X nests in a row with exactly 1 egg\n",
    "    3. average number of eggs per nest\n",
    "    \n",
    "    Parameters:\n",
    "    one_egg_nest_counts (int): Number of nests with 1 egg\n",
    "    two_egg_nest_counts (int): Number of nests with 2 eggs\n",
    "    three_egg_nest_counts (int): Number of nests with 3 eggs\n",
    "    how_many_nests_in_a_row_with_1_egg (int): Number of nests in a row with 1 egg\n",
    "    Returns:\n",
    "    none\n",
    "    \"\"\"\n",
    "\n",
    "    # calculate total number of nests \n",
    "    total_nests = one_egg_nest_counts + two_egg_nest_counts + three_egg_nest_counts\n",
    "    # calculate probability of finding 1, 2, or 3 eggs in a nest\n",
    "    prob_1_egg = one_egg_nest_counts / total_nests\n",
    "    prob_2_eggs = two_egg_nest_counts / total_nests\n",
    "    prob_3_eggs = three_egg_nest_counts / total_nests\n",
    "    # Answer the question above and print the results \n",
    "    print(f\"Probability of finding exactly 2 eggs in the first nest: {prob_2_eggs}\")\n",
    "    prob_nests_in_row = prob_1_egg ** how_many_nests_in_a_row_with_1_egg\n",
    "    print(f\"Probability of getting {how_many_nests_in_a_row_with_1_egg} nests in a row with exactly 1 egg: {prob_nests_in_row}\")\n",
    "    Average_nr_eggs_per_nest = (1 * prob_1_egg) + (2 * prob_2_eggs) + (3 * prob_3_eggs)\n",
    "\n",
    "    # Lets say we have a variable called Average_nr_eggs_per_nest\n",
    "    print(f\"Average number of eggs per nest: {Average_nr_eggs_per_nest}\")   \n",
    "\n",
    "    return None "
   ]
  },
  {
   "cell_type": "code",
   "execution_count": 29,
   "id": "2957a15b",
   "metadata": {},
   "outputs": [
    {
     "name": "stdout",
     "output_type": "stream",
     "text": [
      "Probability of finding exactly 2 eggs in the first nest: 0.7\n",
      "Probability of getting 3 nests in a row with exactly 1 egg: 0.008000000000000002\n",
      "Average number of eggs per nest: 1.9\n"
     ]
    }
   ],
   "source": [
    "# Call eagle_nest_analysis function with example parameters\n",
    " \n",
    "# First example: 4 nests with 1 egg, 14 nests with 2 eggs, 2 nests with 3 eggs\n",
    "eagle_nest_analysis(4, 14, 2, 3)\n"
   ]
  },
  {
   "cell_type": "code",
   "execution_count": null,
   "id": "c3d26d01",
   "metadata": {},
   "outputs": [],
   "source": []
  }
 ],
 "metadata": {
  "kernelspec": {
   "display_name": "IC_Assignments",
   "language": "python",
   "name": "python3"
  },
  "language_info": {
   "codemirror_mode": {
    "name": "ipython",
    "version": 3
   },
   "file_extension": ".py",
   "mimetype": "text/x-python",
   "name": "python",
   "nbconvert_exporter": "python",
   "pygments_lexer": "ipython3",
   "version": "3.13.5"
  }
 },
 "nbformat": 4,
 "nbformat_minor": 5
}
