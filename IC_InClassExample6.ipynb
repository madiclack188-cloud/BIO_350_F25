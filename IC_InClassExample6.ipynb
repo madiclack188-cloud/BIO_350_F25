{
 "cells": [
  {
   "cell_type": "code",
   "execution_count": 20,
   "id": "7fa32a37",
   "metadata": {},
   "outputs": [],
   "source": [
    "import matplotlib.pyplot as plt "
   ]
  },
  {
   "cell_type": "code",
   "execution_count": 21,
   "id": "38589d80",
   "metadata": {},
   "outputs": [],
   "source": [
    "# import numpy \n",
    "import numpy as np"
   ]
  },
  {
   "cell_type": "code",
   "execution_count": 22,
   "id": "8f9a823a",
   "metadata": {},
   "outputs": [
    {
     "name": "stdout",
     "output_type": "stream",
     "text": [
      "1.9054722647301798\n"
     ]
    }
   ],
   "source": [
    "import numpy as np\n",
    "\n",
    "def normal_dist(x, mean, sd):\n",
    "    prob_density = (np.pi*sd) * np.exp(-0.5*((x-mean)/sd)**2)\n",
    "    return prob_density\n",
    "\n",
    "mean = 0\n",
    "sd = 1\n",
    "x = 1\n",
    "result = normal_dist(x, mean, sd)\n",
    "print(result)"
   ]
  },
  {
   "cell_type": "code",
   "execution_count": 23,
   "id": "41151dfa",
   "metadata": {},
   "outputs": [
    {
     "data": {
      "image/png": "[encoded data removed]",
      "text/plain": [
       "<Figure size 640x480 with 1 Axes>"
      ]
     },
     "metadata": {},
     "output_type": "display_data"
    }
   ],
   "source": [
    "import numpy as np\n",
    "import matplotlib.pyplot as plt\n",
    " \n",
    "# Mean of the distribution \n",
    "Mean = 100\n",
    "\n",
    "# satndard deviation of the distribution\n",
    "Standard_deviation  = 5\n",
    " \n",
    "# size\n",
    "size = 100000\n",
    " \n",
    "# creating a normal distribution data\n",
    "values = np.random.normal(Mean, Standard_deviation, size)\n",
    " \n",
    "# plotting histograph\n",
    "plt.hist(values, 100)\n",
    "# plotting mean line\n",
    "plt.axvline(values.mean(), color='k', linestyle='dashed', linewidth=2)\n",
    "plt.show()"
   ]
  },
  {
   "cell_type": "code",
   "execution_count": 24,
   "id": "e2e8851f",
   "metadata": {},
   "outputs": [
    {
     "name": "stdout",
     "output_type": "stream",
     "text": [
      "Percentage of students who got less than 60 marks: 23.58 %\n"
     ]
    }
   ],
   "source": [
    "# import required libraries\n",
    "from scipy.stats import norm\n",
    "import numpy as np\n",
    "\n",
    "# Given information\n",
    "mean = 78\n",
    "std_dev = 25\n",
    "total_students = 100\n",
    "score = 60\n",
    "\n",
    "# Calculate z-score for 60\n",
    "z_score = (score - mean) / std_dev\n",
    "\n",
    "# Calculate the probability of getting a score less than 60\n",
    "prob = norm.cdf(z_score)\n",
    "\n",
    "# Calculate the percentage of students who got less than 60 marks\n",
    "percent = prob * 100\n",
    "\n",
    "# Print the result\n",
    "print(\"Percentage of students who got less than 60 marks:\", round(percent, 2), \"%\")"
   ]
  },
  {
   "cell_type": "code",
   "execution_count": 25,
   "id": "b4a2b446",
   "metadata": {},
   "outputs": [
    {
     "name": "stdout",
     "output_type": "stream",
     "text": [
      "Percentage of students who got marks between 75 and 85 is 15.8 %\n"
     ]
    }
   ],
   "source": [
    "# import required libraries\n",
    "from scipy.stats import norm\n",
    "import numpy as np\n",
    "\n",
    "# Given information\n",
    "mean = 78\n",
    "std_dev = 25\n",
    "total_students = 100\n",
    "min_score = 75\n",
    "max_score = 85\n",
    "\n",
    "# Calculate z-score for 75\n",
    "z_min_score = (min_score - mean) / std_dev\n",
    "# Calculate z-score for 85\n",
    "z_max_score = (max_score - mean) / std_dev\n",
    "\n",
    "\n",
    "# Calculate the probability of getting less than 70\n",
    "min_prob = norm.cdf(z_min_score)\n",
    "\n",
    "# Calculate the probability of getting  less than 85\n",
    "max_prob = norm.cdf(z_max_score)\n",
    "\n",
    "percent = (max_prob-min_prob) * 100\n",
    "\n",
    "# Print the result\n",
    "print(\"Percentage of students who got marks between 75 and 85 is\", round(percent, 2), \"%\")"
   ]
  },
  {
   "cell_type": "code",
   "execution_count": null,
   "id": "84a795a0",
   "metadata": {},
   "outputs": [],
   "source": []
  }
 ],
 "metadata": {
  "kernelspec": {
   "display_name": "IC_Assignments",
   "language": "python",
   "name": "python3"
  },
  "language_info": {
   "codemirror_mode": {
    "name": "ipython",
    "version": 3
   },
   "file_extension": ".py",
   "mimetype": "text/x-python",
   "name": "python",
   "nbconvert_exporter": "python",
   "pygments_lexer": "ipython3",
   "version": "3.13.5"
  }
 },
 "nbformat": 4,
 "nbformat_minor": 5
}
